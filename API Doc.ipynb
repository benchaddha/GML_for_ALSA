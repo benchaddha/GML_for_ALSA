{
 "cells": [
  {
   "cell_type": "markdown",
   "metadata": {},
   "source": [
    "## **GML(Gradual Machine Learning) Framework Documentation**\n"
   ]
  },
  {
   "cell_type": "markdown",
   "metadata": {},
   "source": [
    "When using the GML framework for reasoning, users need to provide the following three parts of data:             \n",
    "1. Variables          \n",
    "2. Features               \n",
    "3. Simple Example"
   ]
  },
  {
   "cell_type": "markdown",
   "metadata": {},
   "source": [
    "Examples:     "
   ]
  },
  {
   "cell_type": "markdown",
   "metadata": {},
   "source": [
    "**Its main data structure is defined as follows:**"
   ]
  },
  {
   "cell_type": "code",
   "execution_count": null,
   "metadata": {},
   "outputs": [],
   "source": [
    "#1.Vars data structure Def\n",
    "variables = list()  # The element type is dict:variable\n",
    "variable = {\n",
    "  # User-provided properties\n",
    "  'var_id': 1,                  # Variable ID int type, starting from 0\n",
    "  'is_easy': False,            # Whether the variable is easy to infer\n",
    "  'is_evidence': True,          # Whether the variable is evidence\n",
    "  'true_label': 1,             # True label of the variable\n",
    "  'label': 1,                 # Inferred label of the variable, 0 is negative, 1 is positive, -1 is unknown\n",
    "  'feature_set':               # Feature set of the variable\n",
    "  { \n",
    "    feature_id1: [theta1, feature_value1],\n",
    "    feature_id2: [theta2, feature_value2],\n",
    "    ...\n",
    "  },\n",
    "  # System-generated properties\n",
    "  'probability': 0.99,          # Probability of the variable (inferred)\n",
    "  'evidential_support': 0.3,     # evidential_support\n",
    "  'entropy': 0.4,               # Entropy of the variable\n",
    "  'approximate_weight': 0.3,     # \n",
    "  ...\n",
    "}"
   ]
  },
  {
   "cell_type": "code",
   "execution_count": null,
   "metadata": {},
   "outputs": [],
   "source": [
    "# 2. Feature struct definition\n",
    "features = list()  # dict: feature\n",
    "feature = {\n",
    "  # User-provided properties\n",
    "  'feature_id': 1,  # Feature ID int type, starting from 0\n",
    "  'feature_type': 'unary_feature/binary_feature',  # Distinguish whether this feature is a single factor feature or a two-factor feature. Currently, unary_feature and binary_feature are supported.\n",
    "  'feature_name': 'good',  # Feature name. If it is a token type, it is the specific word of the token. If it is a feature of other types, it is the specific type of the feature.\n",
    "  'weight': {\n",
    "    var_id1: [weight_value1, feature_value1],  # unary_feature\n",
    "    (var_id3, var_id4): [weight_value2, feature_value2],  # binary_feature\n",
    "    ...\n",
    "  },\n",
    "  # System-generated properties\n",
    "  'tau': 0,\n",
    "  'alpha': 0,\n",
    "  'regression': object,\n",
    "  ...\n",
    "}\n"
   ]
  },
  {
   "cell_type": "code",
   "execution_count": null,
   "metadata": {},
   "outputs": [],
   "source": [
    "#3. Simple example: data structure definition\n",
    "#  Users can also directly mark Easy in variables without providing this file\n",
    "easys = list() # dict:easy\n",
    "easy = {\n",
    "    'var_id': 0,\n",
    "    'label': 1\n",
    "}\n"
   ]
  },
  {
   "cell_type": "markdown",
   "metadata": {},
   "source": [
    "**After preparing the required data, the main calling process is as follows: easys = list() #The element type is dict: easy**"
   ]
  },
  {
   "cell_type": "code",
   "execution_count": null,
   "metadata": {},
   "outputs": [],
   "source": [
    "from gml import GML\n",
    "from easy_instance_labeling import EasyInstanceLabeling\n",
    "from evidential_support import EvidentialSupport\n",
    "from evidence_select import EvidenceSelect\n",
    "from approximate_probability_estimation import ApproximateProbabilityEstimation\n",
    "\n",
    "EasyInstanceLabeling(variables, features, easys).label_easy_by_file()\n",
    "\n",
    "graph = GML(variables, features, evidential_support_method, approximate_probability_method, evidence_select_method, top_m=2000, top_k=10, update_proportion=0.01, balance=False)\n",
    "graph.inference()  # Factor Graph reasoning\n",
    "graph.score()  # Get reasoning results\n"
   ]
  },
  {
   "cell_type": "markdown",
   "metadata": {},
   "source": [
    "**The detailed functional design of the main classes and functions in the current gml module is as follows:**"
   ]
  },
  {
   "cell_type": "code",
   "execution_count": null,
   "metadata": {},
   "outputs": [],
   "source": [
    "# Gml Class\n",
    "class GML:\n",
    "    def __init__(self, variables, features, evidential_support_method, approximate_probability_method, evidence_select_method, top_m=2000, top_k=10, update_proportion=0.01, balance=False):\n",
    "        self.variables = variables\n",
    "        self.features = features\n",
    "        self.evidential_support_method = evidential_support_method\n",
    "        self.approximate_probability_method = approximate_probability_method\n",
    "        self.evidence_select_method = evidence_select_method\n",
    "        self.top_m = top_m\n",
    "        self.top_k = top_k\n",
    "        self.update_proportion = update_proportion\n",
    "        self.balance = balance\n",
    "\n",
    "    # Main functions in GML class\n",
    "    def evidential_support(self):\n",
    "        # Calculate evidential support\n",
    "        pass\n",
    "\n",
    "    def approximate_probability_estimation(self):\n",
    "        # Calculate approximate probability\n",
    "        pass\n",
    "\n",
    "    def select_top_m_by_es(self):\n",
    "        # Select topm\n",
    "        pass\n",
    "\n",
    "    def select_top_k_by_entropy(self):\n",
    "        # Select topk\n",
    "        pass\n",
    "\n",
    "    def select_evidence(self):\n",
    "        # Select evidence\n",
    "        pass\n",
    "\n",
    "    def construct_subgraph(self):\n",
    "        # Construct subgraph\n",
    "        pass\n",
    "\n",
    "    def inference_subgraph(self):\n",
    "        # Inference Subgraph\n",
    "        pass\n",
    "\n",
    "    def label(self):\n",
    "        # Select one var from k to label\n",
    "        pass\n",
    "\n",
    "    def inference(self):\n",
    "        # Inference\n",
    "        pass"
   ]
  },
  {
   "cell_type": "code",
   "execution_count": null,
   "metadata": {},
   "outputs": [],
   "source": [
    "# Simple instance: labeling class\n",
    "class EasyInstanceLabeling(variables, features, easys):\n",
    "    # Currently provides the following methods:\n",
    "    def label_easy_by_file():\n",
    "        # Read the file to label Easy\n",
    "        pass\n",
    "\n",
    "    def label_easy_by_clustering():\n",
    "        # Method for labeling easy in entity recognition\n",
    "        pass\n",
    "\n",
    "    def label_easy_by_custom():\n",
    "        # User Implemented\n",
    "        pass\n"
   ]
  },
  {
   "cell_type": "code",
   "execution_count": null,
   "metadata": {},
   "outputs": [],
   "source": [
    "# Approximate probability estimation class\n",
    "class ApproximateProbabilityEstimation(variables):\n",
    "    # Currently provides the following methods:\n",
    "    def approximate_probability_estimation_by_interval():\n",
    "        # Entity Recognition\n",
    "        pass\n",
    "\n",
    "    def approximate_probability_estimation_by_relation():\n",
    "        # All methods for sentiment analysis\n",
    "        pass\n",
    "\n",
    "    def approximate_probability_estimation_by_custom():\n",
    "        # User Implemented\n",
    "        pass\n"
   ]
  }
 ],
 "metadata": {
  "kernelspec": {
   "display_name": "Python 3",
   "language": "python",
   "name": "python3"
  },
  "language_info": {
   "codemirror_mode": {
    "name": "ipython",
    "version": 3
   },
   "file_extension": ".py",
   "mimetype": "text/x-python",
   "name": "python",
   "nbconvert_exporter": "python",
   "pygments_lexer": "ipython3",
   "version": "3.7.4"
  },
  "pycharm": {
   "stem_cell": {
    "cell_type": "raw",
    "metadata": {
     "collapsed": false
    },
    "source": []
   }
  }
 },
 "nbformat": 4,
 "nbformat_minor": 4
}
